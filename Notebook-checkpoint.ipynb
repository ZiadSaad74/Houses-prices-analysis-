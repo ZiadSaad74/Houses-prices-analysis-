{
 "cells": [
  {
   "cell_type": "markdown",
   "metadata": {},
   "source": [
    "# Project Introduction"
   ]
  },
  {
   "cell_type": "markdown",
   "metadata": {},
   "source": [
    "# House dataset - Analysis\n",
    "This dataset contains house sale prices for King County, which includes Seattle. \n",
    "\n",
    "It includes homes sold between May 2014 and May 2015.\n",
    "\n",
    "It's a great dataset for evaluating simple regression models.\n",
    "\n",
    "Dataset is here : https://www.kaggle.com/harlfoxem/housesalesprediction"
   ]
  },
  {
   "cell_type": "markdown",
   "metadata": {},
   "source": [
    "#     "
   ]
  },
  {
   "cell_type": "markdown",
   "metadata": {},
   "source": [
    "# 1- Into. to dataset"
   ]
  },
  {
   "cell_type": "code",
   "execution_count": 91,
   "metadata": {},
   "outputs": [],
   "source": [
    "import numpy as np\n",
    "import pandas as pd\n",
    "import matplotlib.pyplot as plt \n",
    "import seaborn as sns\n",
    "%matplotlib inline "
   ]
  },
  {
   "cell_type": "code",
   "execution_count": 75,
   "metadata": {},
   "outputs": [
    {
     "data": {
      "text/html": [
       "<div>\n",
       "<style scoped>\n",
       "    .dataframe tbody tr th:only-of-type {\n",
       "        vertical-align: middle;\n",
       "    }\n",
       "\n",
       "    .dataframe tbody tr th {\n",
       "        vertical-align: top;\n",
       "    }\n",
       "\n",
       "    .dataframe thead th {\n",
       "        text-align: right;\n",
       "    }\n",
       "</style>\n",
       "<table border=\"1\" class=\"dataframe\">\n",
       "  <thead>\n",
       "    <tr style=\"text-align: right;\">\n",
       "      <th></th>\n",
       "      <th>id</th>\n",
       "      <th>date</th>\n",
       "      <th>price</th>\n",
       "      <th>bedrooms</th>\n",
       "      <th>bathrooms</th>\n",
       "      <th>sqft_living</th>\n",
       "      <th>sqft_lot</th>\n",
       "      <th>floors</th>\n",
       "      <th>waterfront</th>\n",
       "      <th>view</th>\n",
       "      <th>...</th>\n",
       "      <th>grade</th>\n",
       "      <th>sqft_above</th>\n",
       "      <th>sqft_basement</th>\n",
       "      <th>yr_built</th>\n",
       "      <th>yr_renovated</th>\n",
       "      <th>zipcode</th>\n",
       "      <th>lat</th>\n",
       "      <th>long</th>\n",
       "      <th>sqft_living15</th>\n",
       "      <th>sqft_lot15</th>\n",
       "    </tr>\n",
       "  </thead>\n",
       "  <tbody>\n",
       "    <tr>\n",
       "      <th>0</th>\n",
       "      <td>7129300520</td>\n",
       "      <td>20141013T000000</td>\n",
       "      <td>221900.0</td>\n",
       "      <td>3</td>\n",
       "      <td>1.00</td>\n",
       "      <td>1180</td>\n",
       "      <td>5650</td>\n",
       "      <td>1.0</td>\n",
       "      <td>0</td>\n",
       "      <td>0</td>\n",
       "      <td>...</td>\n",
       "      <td>7</td>\n",
       "      <td>1180</td>\n",
       "      <td>0</td>\n",
       "      <td>1955</td>\n",
       "      <td>0</td>\n",
       "      <td>98178</td>\n",
       "      <td>47.5112</td>\n",
       "      <td>-122.257</td>\n",
       "      <td>1340</td>\n",
       "      <td>5650</td>\n",
       "    </tr>\n",
       "    <tr>\n",
       "      <th>1</th>\n",
       "      <td>6414100192</td>\n",
       "      <td>20141209T000000</td>\n",
       "      <td>538000.0</td>\n",
       "      <td>3</td>\n",
       "      <td>2.25</td>\n",
       "      <td>2570</td>\n",
       "      <td>7242</td>\n",
       "      <td>2.0</td>\n",
       "      <td>0</td>\n",
       "      <td>0</td>\n",
       "      <td>...</td>\n",
       "      <td>7</td>\n",
       "      <td>2170</td>\n",
       "      <td>400</td>\n",
       "      <td>1951</td>\n",
       "      <td>1991</td>\n",
       "      <td>98125</td>\n",
       "      <td>47.7210</td>\n",
       "      <td>-122.319</td>\n",
       "      <td>1690</td>\n",
       "      <td>7639</td>\n",
       "    </tr>\n",
       "    <tr>\n",
       "      <th>2</th>\n",
       "      <td>5631500400</td>\n",
       "      <td>20150225T000000</td>\n",
       "      <td>180000.0</td>\n",
       "      <td>2</td>\n",
       "      <td>1.00</td>\n",
       "      <td>770</td>\n",
       "      <td>10000</td>\n",
       "      <td>1.0</td>\n",
       "      <td>0</td>\n",
       "      <td>0</td>\n",
       "      <td>...</td>\n",
       "      <td>6</td>\n",
       "      <td>770</td>\n",
       "      <td>0</td>\n",
       "      <td>1933</td>\n",
       "      <td>0</td>\n",
       "      <td>98028</td>\n",
       "      <td>47.7379</td>\n",
       "      <td>-122.233</td>\n",
       "      <td>2720</td>\n",
       "      <td>8062</td>\n",
       "    </tr>\n",
       "  </tbody>\n",
       "</table>\n",
       "<p>3 rows × 21 columns</p>\n",
       "</div>"
      ],
      "text/plain": [
       "           id             date     price  bedrooms  bathrooms  sqft_living  \\\n",
       "0  7129300520  20141013T000000  221900.0         3       1.00         1180   \n",
       "1  6414100192  20141209T000000  538000.0         3       2.25         2570   \n",
       "2  5631500400  20150225T000000  180000.0         2       1.00          770   \n",
       "\n",
       "   sqft_lot  floors  waterfront  view  ...  grade  sqft_above  sqft_basement  \\\n",
       "0      5650     1.0           0     0  ...      7        1180              0   \n",
       "1      7242     2.0           0     0  ...      7        2170            400   \n",
       "2     10000     1.0           0     0  ...      6         770              0   \n",
       "\n",
       "   yr_built  yr_renovated  zipcode      lat     long  sqft_living15  \\\n",
       "0      1955             0    98178  47.5112 -122.257           1340   \n",
       "1      1951          1991    98125  47.7210 -122.319           1690   \n",
       "2      1933             0    98028  47.7379 -122.233           2720   \n",
       "\n",
       "   sqft_lot15  \n",
       "0        5650  \n",
       "1        7639  \n",
       "2        8062  \n",
       "\n",
       "[3 rows x 21 columns]"
      ]
     },
     "execution_count": 75,
     "metadata": {},
     "output_type": "execute_result"
    }
   ],
   "source": [
    "df = pd.read_csv('houseData.csv')\n",
    "\n",
    "df.head(3)"
   ]
  },
  {
   "cell_type": "code",
   "execution_count": 76,
   "metadata": {},
   "outputs": [
    {
     "data": {
      "text/plain": [
       "id               0\n",
       "date             0\n",
       "price            0\n",
       "bedrooms         0\n",
       "bathrooms        0\n",
       "sqft_living      0\n",
       "sqft_lot         0\n",
       "floors           0\n",
       "waterfront       0\n",
       "view             0\n",
       "condition        0\n",
       "grade            0\n",
       "sqft_above       0\n",
       "sqft_basement    0\n",
       "yr_built         0\n",
       "yr_renovated     0\n",
       "zipcode          0\n",
       "lat              0\n",
       "long             0\n",
       "sqft_living15    0\n",
       "sqft_lot15       0\n",
       "dtype: int64"
      ]
     },
     "execution_count": 76,
     "metadata": {},
     "output_type": "execute_result"
    }
   ],
   "source": [
    "#checking if there are null values in the dataset.\n",
    "\n",
    "df.isnull().sum()"
   ]
  },
  {
   "cell_type": "code",
   "execution_count": 202,
   "metadata": {
    "scrolled": true
   },
   "outputs": [
    {
     "data": {
      "text/plain": [
       "id                        int64\n",
       "date             datetime64[ns]\n",
       "price                   float64\n",
       "bedrooms                  int64\n",
       "bathrooms                 int32\n",
       "sqft_living               int64\n",
       "sqft_lot                  int64\n",
       "floors                    int32\n",
       "waterfront                int64\n",
       "is_viewd                   bool\n",
       "condition                 int64\n",
       "grade                     int64\n",
       "sqft_above                int64\n",
       "sqft_basement             int64\n",
       "yr_built         datetime64[ns]\n",
       "yr_renovated     datetime64[ns]\n",
       "zipcode                   int64\n",
       "lat                     float64\n",
       "long                    float64\n",
       "sqft_living15             int64\n",
       "sqft_lot15                int64\n",
       "dtype: object"
      ]
     },
     "execution_count": 202,
     "metadata": {},
     "output_type": "execute_result"
    }
   ],
   "source": [
    "#checking the data types if each column to modify it if there's a wrong type.  \n",
    "\n",
    "df.dtypes"
   ]
  },
  {
   "cell_type": "code",
   "execution_count": null,
   "metadata": {},
   "outputs": [],
   "source": []
  },
  {
   "cell_type": "markdown",
   "metadata": {},
   "source": [
    "# Conclusion of the info we gained from the dataset :-\n",
    "\n",
    "1- There are not any missy values.\n",
    "\n",
    "2- There are some datatypes of some columns that should be changed like (date , yr_built , yr_removed) to datetime type , and (bathrooms , floors) to int and (view) to boolean.\n",
    "\n",
    "3- There are some columns that their names should be changed to be more clear, like (view to is_viewed? )\n",
    "   \n",
    "#  "
   ]
  },
  {
   "cell_type": "markdown",
   "metadata": {},
   "source": [
    "# first : datatypes change. "
   ]
  },
  {
   "cell_type": "code",
   "execution_count": 78,
   "metadata": {},
   "outputs": [],
   "source": [
    "df['date'] = pd.to_datetime(df['date'])\n",
    "df['yr_built'] = pd.to_datetime(df['yr_built'])\n",
    "df['yr_renovated'] = pd.to_datetime(df['yr_renovated'])\n",
    "df['floors'] = df['floors'].astype('int')\n",
    "df['bathrooms'] = df['bathrooms'].astype('int')\n",
    "\n",
    "df['view'].replace(0, False , inplace = True)\n",
    "df['view'].replace(1, True , inplace = True)\n",
    "df['view'] = df['view'].astype('bool')"
   ]
  },
  {
   "cell_type": "code",
   "execution_count": 145,
   "metadata": {},
   "outputs": [],
   "source": [
    "#df.head(5)"
   ]
  },
  {
   "cell_type": "markdown",
   "metadata": {},
   "source": [
    "# Second : Changing columns name"
   ]
  },
  {
   "cell_type": "code",
   "execution_count": 80,
   "metadata": {},
   "outputs": [
    {
     "name": "stdout",
     "output_type": "stream",
     "text": [
      "<class 'pandas.core.frame.DataFrame'>\n",
      "RangeIndex: 21613 entries, 0 to 21612\n",
      "Data columns (total 21 columns):\n",
      " #   Column         Non-Null Count  Dtype         \n",
      "---  ------         --------------  -----         \n",
      " 0   id             21613 non-null  int64         \n",
      " 1   date           21613 non-null  datetime64[ns]\n",
      " 2   price          21613 non-null  float64       \n",
      " 3   bedrooms       21613 non-null  int64         \n",
      " 4   bathrooms      21613 non-null  int32         \n",
      " 5   sqft_living    21613 non-null  int64         \n",
      " 6   sqft_lot       21613 non-null  int64         \n",
      " 7   floors         21613 non-null  int32         \n",
      " 8   waterfront     21613 non-null  int64         \n",
      " 9   is_viewd       21613 non-null  bool          \n",
      " 10  condition      21613 non-null  int64         \n",
      " 11  grade          21613 non-null  int64         \n",
      " 12  sqft_above     21613 non-null  int64         \n",
      " 13  sqft_basement  21613 non-null  int64         \n",
      " 14  yr_built       21613 non-null  datetime64[ns]\n",
      " 15  yr_renovated   21613 non-null  datetime64[ns]\n",
      " 16  zipcode        21613 non-null  int64         \n",
      " 17  lat            21613 non-null  float64       \n",
      " 18  long           21613 non-null  float64       \n",
      " 19  sqft_living15  21613 non-null  int64         \n",
      " 20  sqft_lot15     21613 non-null  int64         \n",
      "dtypes: bool(1), datetime64[ns](3), float64(3), int32(2), int64(12)\n",
      "memory usage: 3.2 MB\n"
     ]
    }
   ],
   "source": [
    "df.rename(columns ={'view' : 'is_viewd'} , inplace = True)\n",
    "df.info()"
   ]
  },
  {
   "cell_type": "code",
   "execution_count": 86,
   "metadata": {},
   "outputs": [
    {
     "data": {
      "text/html": [
       "<div>\n",
       "<style scoped>\n",
       "    .dataframe tbody tr th:only-of-type {\n",
       "        vertical-align: middle;\n",
       "    }\n",
       "\n",
       "    .dataframe tbody tr th {\n",
       "        vertical-align: top;\n",
       "    }\n",
       "\n",
       "    .dataframe thead th {\n",
       "        text-align: right;\n",
       "    }\n",
       "</style>\n",
       "<table border=\"1\" class=\"dataframe\">\n",
       "  <thead>\n",
       "    <tr style=\"text-align: right;\">\n",
       "      <th></th>\n",
       "      <th>id</th>\n",
       "      <th>date</th>\n",
       "      <th>price</th>\n",
       "      <th>bedrooms</th>\n",
       "      <th>bathrooms</th>\n",
       "      <th>sqft_living</th>\n",
       "      <th>sqft_lot</th>\n",
       "      <th>floors</th>\n",
       "      <th>waterfront</th>\n",
       "      <th>is_viewd</th>\n",
       "      <th>condition</th>\n",
       "      <th>grade</th>\n",
       "      <th>sqft_above</th>\n",
       "      <th>sqft_basement</th>\n",
       "      <th>yr_built</th>\n",
       "      <th>zipcode</th>\n",
       "      <th>lat</th>\n",
       "      <th>long</th>\n",
       "      <th>sqft_living15</th>\n",
       "      <th>sqft_lot15</th>\n",
       "    </tr>\n",
       "  </thead>\n",
       "  <tbody>\n",
       "    <tr>\n",
       "      <th>0</th>\n",
       "      <td>7129300520</td>\n",
       "      <td>2014-10-13</td>\n",
       "      <td>221900.0</td>\n",
       "      <td>3</td>\n",
       "      <td>1</td>\n",
       "      <td>1180</td>\n",
       "      <td>5650</td>\n",
       "      <td>1</td>\n",
       "      <td>0</td>\n",
       "      <td>False</td>\n",
       "      <td>3</td>\n",
       "      <td>7</td>\n",
       "      <td>1180</td>\n",
       "      <td>0</td>\n",
       "      <td>1970-01-01 00:00:00.000001955</td>\n",
       "      <td>98178</td>\n",
       "      <td>47.5112</td>\n",
       "      <td>-122.257</td>\n",
       "      <td>1340</td>\n",
       "      <td>5650</td>\n",
       "    </tr>\n",
       "    <tr>\n",
       "      <th>1</th>\n",
       "      <td>6414100192</td>\n",
       "      <td>2014-12-09</td>\n",
       "      <td>538000.0</td>\n",
       "      <td>3</td>\n",
       "      <td>2</td>\n",
       "      <td>2570</td>\n",
       "      <td>7242</td>\n",
       "      <td>2</td>\n",
       "      <td>0</td>\n",
       "      <td>False</td>\n",
       "      <td>3</td>\n",
       "      <td>7</td>\n",
       "      <td>2170</td>\n",
       "      <td>400</td>\n",
       "      <td>1970-01-01 00:00:00.000001951</td>\n",
       "      <td>98125</td>\n",
       "      <td>47.7210</td>\n",
       "      <td>-122.319</td>\n",
       "      <td>1690</td>\n",
       "      <td>7639</td>\n",
       "    </tr>\n",
       "    <tr>\n",
       "      <th>2</th>\n",
       "      <td>5631500400</td>\n",
       "      <td>2015-02-25</td>\n",
       "      <td>180000.0</td>\n",
       "      <td>2</td>\n",
       "      <td>1</td>\n",
       "      <td>770</td>\n",
       "      <td>10000</td>\n",
       "      <td>1</td>\n",
       "      <td>0</td>\n",
       "      <td>False</td>\n",
       "      <td>3</td>\n",
       "      <td>6</td>\n",
       "      <td>770</td>\n",
       "      <td>0</td>\n",
       "      <td>1970-01-01 00:00:00.000001933</td>\n",
       "      <td>98028</td>\n",
       "      <td>47.7379</td>\n",
       "      <td>-122.233</td>\n",
       "      <td>2720</td>\n",
       "      <td>8062</td>\n",
       "    </tr>\n",
       "    <tr>\n",
       "      <th>3</th>\n",
       "      <td>2487200875</td>\n",
       "      <td>2014-12-09</td>\n",
       "      <td>604000.0</td>\n",
       "      <td>4</td>\n",
       "      <td>3</td>\n",
       "      <td>1960</td>\n",
       "      <td>5000</td>\n",
       "      <td>1</td>\n",
       "      <td>0</td>\n",
       "      <td>False</td>\n",
       "      <td>5</td>\n",
       "      <td>7</td>\n",
       "      <td>1050</td>\n",
       "      <td>910</td>\n",
       "      <td>1970-01-01 00:00:00.000001965</td>\n",
       "      <td>98136</td>\n",
       "      <td>47.5208</td>\n",
       "      <td>-122.393</td>\n",
       "      <td>1360</td>\n",
       "      <td>5000</td>\n",
       "    </tr>\n",
       "    <tr>\n",
       "      <th>4</th>\n",
       "      <td>1954400510</td>\n",
       "      <td>2015-02-18</td>\n",
       "      <td>510000.0</td>\n",
       "      <td>3</td>\n",
       "      <td>2</td>\n",
       "      <td>1680</td>\n",
       "      <td>8080</td>\n",
       "      <td>1</td>\n",
       "      <td>0</td>\n",
       "      <td>False</td>\n",
       "      <td>3</td>\n",
       "      <td>8</td>\n",
       "      <td>1680</td>\n",
       "      <td>0</td>\n",
       "      <td>1970-01-01 00:00:00.000001987</td>\n",
       "      <td>98074</td>\n",
       "      <td>47.6168</td>\n",
       "      <td>-122.045</td>\n",
       "      <td>1800</td>\n",
       "      <td>7503</td>\n",
       "    </tr>\n",
       "    <tr>\n",
       "      <th>...</th>\n",
       "      <td>...</td>\n",
       "      <td>...</td>\n",
       "      <td>...</td>\n",
       "      <td>...</td>\n",
       "      <td>...</td>\n",
       "      <td>...</td>\n",
       "      <td>...</td>\n",
       "      <td>...</td>\n",
       "      <td>...</td>\n",
       "      <td>...</td>\n",
       "      <td>...</td>\n",
       "      <td>...</td>\n",
       "      <td>...</td>\n",
       "      <td>...</td>\n",
       "      <td>...</td>\n",
       "      <td>...</td>\n",
       "      <td>...</td>\n",
       "      <td>...</td>\n",
       "      <td>...</td>\n",
       "      <td>...</td>\n",
       "    </tr>\n",
       "    <tr>\n",
       "      <th>21608</th>\n",
       "      <td>263000018</td>\n",
       "      <td>2014-05-21</td>\n",
       "      <td>360000.0</td>\n",
       "      <td>3</td>\n",
       "      <td>2</td>\n",
       "      <td>1530</td>\n",
       "      <td>1131</td>\n",
       "      <td>3</td>\n",
       "      <td>0</td>\n",
       "      <td>False</td>\n",
       "      <td>3</td>\n",
       "      <td>8</td>\n",
       "      <td>1530</td>\n",
       "      <td>0</td>\n",
       "      <td>1970-01-01 00:00:00.000002009</td>\n",
       "      <td>98103</td>\n",
       "      <td>47.6993</td>\n",
       "      <td>-122.346</td>\n",
       "      <td>1530</td>\n",
       "      <td>1509</td>\n",
       "    </tr>\n",
       "    <tr>\n",
       "      <th>21609</th>\n",
       "      <td>6600060120</td>\n",
       "      <td>2015-02-23</td>\n",
       "      <td>400000.0</td>\n",
       "      <td>4</td>\n",
       "      <td>2</td>\n",
       "      <td>2310</td>\n",
       "      <td>5813</td>\n",
       "      <td>2</td>\n",
       "      <td>0</td>\n",
       "      <td>False</td>\n",
       "      <td>3</td>\n",
       "      <td>8</td>\n",
       "      <td>2310</td>\n",
       "      <td>0</td>\n",
       "      <td>1970-01-01 00:00:00.000002014</td>\n",
       "      <td>98146</td>\n",
       "      <td>47.5107</td>\n",
       "      <td>-122.362</td>\n",
       "      <td>1830</td>\n",
       "      <td>7200</td>\n",
       "    </tr>\n",
       "    <tr>\n",
       "      <th>21610</th>\n",
       "      <td>1523300141</td>\n",
       "      <td>2014-06-23</td>\n",
       "      <td>402101.0</td>\n",
       "      <td>2</td>\n",
       "      <td>0</td>\n",
       "      <td>1020</td>\n",
       "      <td>1350</td>\n",
       "      <td>2</td>\n",
       "      <td>0</td>\n",
       "      <td>False</td>\n",
       "      <td>3</td>\n",
       "      <td>7</td>\n",
       "      <td>1020</td>\n",
       "      <td>0</td>\n",
       "      <td>1970-01-01 00:00:00.000002009</td>\n",
       "      <td>98144</td>\n",
       "      <td>47.5944</td>\n",
       "      <td>-122.299</td>\n",
       "      <td>1020</td>\n",
       "      <td>2007</td>\n",
       "    </tr>\n",
       "    <tr>\n",
       "      <th>21611</th>\n",
       "      <td>291310100</td>\n",
       "      <td>2015-01-16</td>\n",
       "      <td>400000.0</td>\n",
       "      <td>3</td>\n",
       "      <td>2</td>\n",
       "      <td>1600</td>\n",
       "      <td>2388</td>\n",
       "      <td>2</td>\n",
       "      <td>0</td>\n",
       "      <td>False</td>\n",
       "      <td>3</td>\n",
       "      <td>8</td>\n",
       "      <td>1600</td>\n",
       "      <td>0</td>\n",
       "      <td>1970-01-01 00:00:00.000002004</td>\n",
       "      <td>98027</td>\n",
       "      <td>47.5345</td>\n",
       "      <td>-122.069</td>\n",
       "      <td>1410</td>\n",
       "      <td>1287</td>\n",
       "    </tr>\n",
       "    <tr>\n",
       "      <th>21612</th>\n",
       "      <td>1523300157</td>\n",
       "      <td>2014-10-15</td>\n",
       "      <td>325000.0</td>\n",
       "      <td>2</td>\n",
       "      <td>0</td>\n",
       "      <td>1020</td>\n",
       "      <td>1076</td>\n",
       "      <td>2</td>\n",
       "      <td>0</td>\n",
       "      <td>False</td>\n",
       "      <td>3</td>\n",
       "      <td>7</td>\n",
       "      <td>1020</td>\n",
       "      <td>0</td>\n",
       "      <td>1970-01-01 00:00:00.000002008</td>\n",
       "      <td>98144</td>\n",
       "      <td>47.5941</td>\n",
       "      <td>-122.299</td>\n",
       "      <td>1020</td>\n",
       "      <td>1357</td>\n",
       "    </tr>\n",
       "  </tbody>\n",
       "</table>\n",
       "<p>21613 rows × 20 columns</p>\n",
       "</div>"
      ],
      "text/plain": [
       "               id       date     price  bedrooms  bathrooms  sqft_living  \\\n",
       "0      7129300520 2014-10-13  221900.0         3          1         1180   \n",
       "1      6414100192 2014-12-09  538000.0         3          2         2570   \n",
       "2      5631500400 2015-02-25  180000.0         2          1          770   \n",
       "3      2487200875 2014-12-09  604000.0         4          3         1960   \n",
       "4      1954400510 2015-02-18  510000.0         3          2         1680   \n",
       "...           ...        ...       ...       ...        ...          ...   \n",
       "21608   263000018 2014-05-21  360000.0         3          2         1530   \n",
       "21609  6600060120 2015-02-23  400000.0         4          2         2310   \n",
       "21610  1523300141 2014-06-23  402101.0         2          0         1020   \n",
       "21611   291310100 2015-01-16  400000.0         3          2         1600   \n",
       "21612  1523300157 2014-10-15  325000.0         2          0         1020   \n",
       "\n",
       "       sqft_lot  floors  waterfront  is_viewd  condition  grade  sqft_above  \\\n",
       "0          5650       1           0     False          3      7        1180   \n",
       "1          7242       2           0     False          3      7        2170   \n",
       "2         10000       1           0     False          3      6         770   \n",
       "3          5000       1           0     False          5      7        1050   \n",
       "4          8080       1           0     False          3      8        1680   \n",
       "...         ...     ...         ...       ...        ...    ...         ...   \n",
       "21608      1131       3           0     False          3      8        1530   \n",
       "21609      5813       2           0     False          3      8        2310   \n",
       "21610      1350       2           0     False          3      7        1020   \n",
       "21611      2388       2           0     False          3      8        1600   \n",
       "21612      1076       2           0     False          3      7        1020   \n",
       "\n",
       "       sqft_basement                      yr_built  zipcode      lat     long  \\\n",
       "0                  0 1970-01-01 00:00:00.000001955    98178  47.5112 -122.257   \n",
       "1                400 1970-01-01 00:00:00.000001951    98125  47.7210 -122.319   \n",
       "2                  0 1970-01-01 00:00:00.000001933    98028  47.7379 -122.233   \n",
       "3                910 1970-01-01 00:00:00.000001965    98136  47.5208 -122.393   \n",
       "4                  0 1970-01-01 00:00:00.000001987    98074  47.6168 -122.045   \n",
       "...              ...                           ...      ...      ...      ...   \n",
       "21608              0 1970-01-01 00:00:00.000002009    98103  47.6993 -122.346   \n",
       "21609              0 1970-01-01 00:00:00.000002014    98146  47.5107 -122.362   \n",
       "21610              0 1970-01-01 00:00:00.000002009    98144  47.5944 -122.299   \n",
       "21611              0 1970-01-01 00:00:00.000002004    98027  47.5345 -122.069   \n",
       "21612              0 1970-01-01 00:00:00.000002008    98144  47.5941 -122.299   \n",
       "\n",
       "       sqft_living15  sqft_lot15  \n",
       "0               1340        5650  \n",
       "1               1690        7639  \n",
       "2               2720        8062  \n",
       "3               1360        5000  \n",
       "4               1800        7503  \n",
       "...              ...         ...  \n",
       "21608           1530        1509  \n",
       "21609           1830        7200  \n",
       "21610           1020        2007  \n",
       "21611           1410        1287  \n",
       "21612           1020        1357  \n",
       "\n",
       "[21613 rows x 20 columns]"
      ]
     },
     "execution_count": 86,
     "metadata": {},
     "output_type": "execute_result"
    }
   ],
   "source": [
    "df.drop('yr_renovated' , axis = 1)"
   ]
  },
  {
   "cell_type": "markdown",
   "metadata": {},
   "source": [
    "            \n",
    "# 2 - Analysis time!\n",
    "\n",
    "There are many features that can be analysed to discover the relationships between columns\n"
   ]
  },
  {
   "cell_type": "code",
   "execution_count": 147,
   "metadata": {
    "scrolled": true
   },
   "outputs": [
    {
     "data": {
      "text/plain": [
       "array([[<matplotlib.axes._subplots.AxesSubplot object at 0x000002EE070FA280>,\n",
       "        <matplotlib.axes._subplots.AxesSubplot object at 0x000002EE070DFCA0>],\n",
       "       [<matplotlib.axes._subplots.AxesSubplot object at 0x000002EE07152760>,\n",
       "        <matplotlib.axes._subplots.AxesSubplot object at 0x000002EE0717CEE0>],\n",
       "       [<matplotlib.axes._subplots.AxesSubplot object at 0x000002EE075306A0>,\n",
       "        <matplotlib.axes._subplots.AxesSubplot object at 0x000002EE07559D60>]],\n",
       "      dtype=object)"
      ]
     },
     "execution_count": 147,
     "metadata": {},
     "output_type": "execute_result"
    },
    {
     "data": {
      "image/png": "[encoded data removed]",
      "text/plain": [
       "<Figure size 864x864 with 6 Axes>"
      ]
     },
     "metadata": {
      "needs_background": "light"
     },
     "output_type": "display_data"
    }
   ],
   "source": [
    "# extracting some columns to visualize them\n",
    "\n",
    "ndf = df[['bathrooms' ,'bedrooms' , 'condition' ,'floors' ,'grade','waterfront']]\n",
    "ndf.hist(figsize =(12,12))"
   ]
  },
  {
   "cell_type": "markdown",
   "metadata": {},
   "source": [
    "# Conclusion : From some of the above histograms we found that..\n",
    "\n",
    "1- Waterfront : More than 90% of houses don't have waterfront.\n",
    "\n",
    "2- Grades : About 67% of houses have garde between (7 or 8) , and the other houses their grades values are low\n",
    "\n",
    "3- Floors : More than 55% of houses contains only one floor , about 40% of houses contains two floors and a very few percentage of house that have 3 floors.\n",
    "\n",
    "4- Bathrooms : More than 10000 houses that have 2 bathroooms, More than 8000 houses that have 1 bathroooms, almost 2100 houses that have 3 bathrooms and very few houses have more than 3 bathrooms.\n",
    "\n",
    "5- Condition : About 67% of houses have a rating score = 3 , and almost 18% have a rate = 4 and other less than "
   ]
  },
  {
   "cell_type": "markdown",
   "metadata": {},
   "source": [
    "# Now , It's time to know the relationships between the columns\n",
    "\n",
    "Let's start by calculating the correlation:"
   ]
  },
  {
   "cell_type": "code",
   "execution_count": 134,
   "metadata": {},
   "outputs": [
    {
     "data": {
      "text/html": [
       "<div>\n",
       "<style scoped>\n",
       "    .dataframe tbody tr th:only-of-type {\n",
       "        vertical-align: middle;\n",
       "    }\n",
       "\n",
       "    .dataframe tbody tr th {\n",
       "        vertical-align: top;\n",
       "    }\n",
       "\n",
       "    .dataframe thead th {\n",
       "        text-align: right;\n",
       "    }\n",
       "</style>\n",
       "<table border=\"1\" class=\"dataframe\">\n",
       "  <thead>\n",
       "    <tr style=\"text-align: right;\">\n",
       "      <th></th>\n",
       "      <th>id</th>\n",
       "      <th>price</th>\n",
       "      <th>bedrooms</th>\n",
       "      <th>bathrooms</th>\n",
       "      <th>sqft_living</th>\n",
       "      <th>sqft_lot</th>\n",
       "      <th>floors</th>\n",
       "      <th>waterfront</th>\n",
       "      <th>is_viewd</th>\n",
       "      <th>condition</th>\n",
       "      <th>grade</th>\n",
       "      <th>sqft_above</th>\n",
       "      <th>sqft_basement</th>\n",
       "      <th>zipcode</th>\n",
       "      <th>lat</th>\n",
       "      <th>long</th>\n",
       "      <th>sqft_living15</th>\n",
       "      <th>sqft_lot15</th>\n",
       "    </tr>\n",
       "  </thead>\n",
       "  <tbody>\n",
       "    <tr>\n",
       "      <th>id</th>\n",
       "      <td>1.000000</td>\n",
       "      <td>-0.016762</td>\n",
       "      <td>0.001286</td>\n",
       "      <td>-0.000038</td>\n",
       "      <td>-0.012258</td>\n",
       "      <td>-0.132109</td>\n",
       "      <td>0.019120</td>\n",
       "      <td>-0.002721</td>\n",
       "      <td>0.011405</td>\n",
       "      <td>-0.023783</td>\n",
       "      <td>0.008130</td>\n",
       "      <td>-0.010842</td>\n",
       "      <td>-0.005151</td>\n",
       "      <td>-0.008224</td>\n",
       "      <td>-0.001891</td>\n",
       "      <td>0.020799</td>\n",
       "      <td>-0.002901</td>\n",
       "      <td>-0.138798</td>\n",
       "    </tr>\n",
       "    <tr>\n",
       "      <th>price</th>\n",
       "      <td>-0.016762</td>\n",
       "      <td>1.000000</td>\n",
       "      <td>0.308350</td>\n",
       "      <td>0.510072</td>\n",
       "      <td>0.702035</td>\n",
       "      <td>0.089661</td>\n",
       "      <td>0.237211</td>\n",
       "      <td>0.266369</td>\n",
       "      <td>0.359120</td>\n",
       "      <td>0.036362</td>\n",
       "      <td>0.667434</td>\n",
       "      <td>0.605567</td>\n",
       "      <td>0.323816</td>\n",
       "      <td>-0.053203</td>\n",
       "      <td>0.307003</td>\n",
       "      <td>0.021626</td>\n",
       "      <td>0.585379</td>\n",
       "      <td>0.082447</td>\n",
       "    </tr>\n",
       "    <tr>\n",
       "      <th>bedrooms</th>\n",
       "      <td>0.001286</td>\n",
       "      <td>0.308350</td>\n",
       "      <td>1.000000</td>\n",
       "      <td>0.467452</td>\n",
       "      <td>0.576671</td>\n",
       "      <td>0.031703</td>\n",
       "      <td>0.155643</td>\n",
       "      <td>-0.006582</td>\n",
       "      <td>0.080106</td>\n",
       "      <td>0.028472</td>\n",
       "      <td>0.356967</td>\n",
       "      <td>0.477600</td>\n",
       "      <td>0.303093</td>\n",
       "      <td>-0.152668</td>\n",
       "      <td>-0.008931</td>\n",
       "      <td>0.129473</td>\n",
       "      <td>0.391638</td>\n",
       "      <td>0.029244</td>\n",
       "    </tr>\n",
       "    <tr>\n",
       "      <th>bathrooms</th>\n",
       "      <td>-0.000038</td>\n",
       "      <td>0.510072</td>\n",
       "      <td>0.467452</td>\n",
       "      <td>1.000000</td>\n",
       "      <td>0.697875</td>\n",
       "      <td>0.085310</td>\n",
       "      <td>0.484822</td>\n",
       "      <td>0.058798</td>\n",
       "      <td>0.166576</td>\n",
       "      <td>-0.126016</td>\n",
       "      <td>0.606631</td>\n",
       "      <td>0.639933</td>\n",
       "      <td>0.250880</td>\n",
       "      <td>-0.159773</td>\n",
       "      <td>0.031351</td>\n",
       "      <td>0.179351</td>\n",
       "      <td>0.510049</td>\n",
       "      <td>0.080779</td>\n",
       "    </tr>\n",
       "    <tr>\n",
       "      <th>sqft_living</th>\n",
       "      <td>-0.012258</td>\n",
       "      <td>0.702035</td>\n",
       "      <td>0.576671</td>\n",
       "      <td>0.697875</td>\n",
       "      <td>1.000000</td>\n",
       "      <td>0.172826</td>\n",
       "      <td>0.353321</td>\n",
       "      <td>0.103818</td>\n",
       "      <td>0.270907</td>\n",
       "      <td>-0.058753</td>\n",
       "      <td>0.762704</td>\n",
       "      <td>0.876597</td>\n",
       "      <td>0.435043</td>\n",
       "      <td>-0.199430</td>\n",
       "      <td>0.052529</td>\n",
       "      <td>0.240223</td>\n",
       "      <td>0.756420</td>\n",
       "      <td>0.183286</td>\n",
       "    </tr>\n",
       "    <tr>\n",
       "      <th>sqft_lot</th>\n",
       "      <td>-0.132109</td>\n",
       "      <td>0.089661</td>\n",
       "      <td>0.031703</td>\n",
       "      <td>0.085310</td>\n",
       "      <td>0.172826</td>\n",
       "      <td>1.000000</td>\n",
       "      <td>-0.008951</td>\n",
       "      <td>0.021604</td>\n",
       "      <td>0.067847</td>\n",
       "      <td>-0.008958</td>\n",
       "      <td>0.113621</td>\n",
       "      <td>0.183512</td>\n",
       "      <td>0.015286</td>\n",
       "      <td>-0.129574</td>\n",
       "      <td>-0.085683</td>\n",
       "      <td>0.229521</td>\n",
       "      <td>0.144608</td>\n",
       "      <td>0.718557</td>\n",
       "    </tr>\n",
       "    <tr>\n",
       "      <th>floors</th>\n",
       "      <td>0.019120</td>\n",
       "      <td>0.237211</td>\n",
       "      <td>0.155643</td>\n",
       "      <td>0.484822</td>\n",
       "      <td>0.353321</td>\n",
       "      <td>-0.008951</td>\n",
       "      <td>1.000000</td>\n",
       "      <td>0.019640</td>\n",
       "      <td>0.013869</td>\n",
       "      <td>-0.293173</td>\n",
       "      <td>0.472608</td>\n",
       "      <td>0.517913</td>\n",
       "      <td>-0.235836</td>\n",
       "      <td>-0.096743</td>\n",
       "      <td>0.029567</td>\n",
       "      <td>0.159001</td>\n",
       "      <td>0.296561</td>\n",
       "      <td>-0.013252</td>\n",
       "    </tr>\n",
       "    <tr>\n",
       "      <th>waterfront</th>\n",
       "      <td>-0.002721</td>\n",
       "      <td>0.266369</td>\n",
       "      <td>-0.006582</td>\n",
       "      <td>0.058798</td>\n",
       "      <td>0.103818</td>\n",
       "      <td>0.021604</td>\n",
       "      <td>0.019640</td>\n",
       "      <td>1.000000</td>\n",
       "      <td>0.264057</td>\n",
       "      <td>0.016653</td>\n",
       "      <td>0.082775</td>\n",
       "      <td>0.072075</td>\n",
       "      <td>0.080588</td>\n",
       "      <td>0.030285</td>\n",
       "      <td>-0.014274</td>\n",
       "      <td>-0.041910</td>\n",
       "      <td>0.086463</td>\n",
       "      <td>0.030703</td>\n",
       "    </tr>\n",
       "    <tr>\n",
       "      <th>is_viewd</th>\n",
       "      <td>0.011405</td>\n",
       "      <td>0.359120</td>\n",
       "      <td>0.080106</td>\n",
       "      <td>0.166576</td>\n",
       "      <td>0.270907</td>\n",
       "      <td>0.067847</td>\n",
       "      <td>0.013869</td>\n",
       "      <td>0.264057</td>\n",
       "      <td>1.000000</td>\n",
       "      <td>0.047143</td>\n",
       "      <td>0.237327</td>\n",
       "      <td>0.153325</td>\n",
       "      <td>0.275310</td>\n",
       "      <td>0.091213</td>\n",
       "      <td>0.009529</td>\n",
       "      <td>-0.088244</td>\n",
       "      <td>0.273444</td>\n",
       "      <td>0.064345</td>\n",
       "    </tr>\n",
       "    <tr>\n",
       "      <th>condition</th>\n",
       "      <td>-0.023783</td>\n",
       "      <td>0.036362</td>\n",
       "      <td>0.028472</td>\n",
       "      <td>-0.126016</td>\n",
       "      <td>-0.058753</td>\n",
       "      <td>-0.008958</td>\n",
       "      <td>-0.293173</td>\n",
       "      <td>0.016653</td>\n",
       "      <td>0.047143</td>\n",
       "      <td>1.000000</td>\n",
       "      <td>-0.144674</td>\n",
       "      <td>-0.158214</td>\n",
       "      <td>0.174105</td>\n",
       "      <td>0.003026</td>\n",
       "      <td>-0.014941</td>\n",
       "      <td>-0.106500</td>\n",
       "      <td>-0.092824</td>\n",
       "      <td>-0.003406</td>\n",
       "    </tr>\n",
       "    <tr>\n",
       "      <th>grade</th>\n",
       "      <td>0.008130</td>\n",
       "      <td>0.667434</td>\n",
       "      <td>0.356967</td>\n",
       "      <td>0.606631</td>\n",
       "      <td>0.762704</td>\n",
       "      <td>0.113621</td>\n",
       "      <td>0.472608</td>\n",
       "      <td>0.082775</td>\n",
       "      <td>0.237327</td>\n",
       "      <td>-0.144674</td>\n",
       "      <td>1.000000</td>\n",
       "      <td>0.755923</td>\n",
       "      <td>0.168392</td>\n",
       "      <td>-0.184862</td>\n",
       "      <td>0.114084</td>\n",
       "      <td>0.198372</td>\n",
       "      <td>0.713202</td>\n",
       "      <td>0.119248</td>\n",
       "    </tr>\n",
       "    <tr>\n",
       "      <th>sqft_above</th>\n",
       "      <td>-0.010842</td>\n",
       "      <td>0.605567</td>\n",
       "      <td>0.477600</td>\n",
       "      <td>0.639933</td>\n",
       "      <td>0.876597</td>\n",
       "      <td>0.183512</td>\n",
       "      <td>0.517913</td>\n",
       "      <td>0.072075</td>\n",
       "      <td>0.153325</td>\n",
       "      <td>-0.158214</td>\n",
       "      <td>0.755923</td>\n",
       "      <td>1.000000</td>\n",
       "      <td>-0.051943</td>\n",
       "      <td>-0.261190</td>\n",
       "      <td>-0.000816</td>\n",
       "      <td>0.343803</td>\n",
       "      <td>0.731870</td>\n",
       "      <td>0.194050</td>\n",
       "    </tr>\n",
       "    <tr>\n",
       "      <th>sqft_basement</th>\n",
       "      <td>-0.005151</td>\n",
       "      <td>0.323816</td>\n",
       "      <td>0.303093</td>\n",
       "      <td>0.250880</td>\n",
       "      <td>0.435043</td>\n",
       "      <td>0.015286</td>\n",
       "      <td>-0.235836</td>\n",
       "      <td>0.080588</td>\n",
       "      <td>0.275310</td>\n",
       "      <td>0.174105</td>\n",
       "      <td>0.168392</td>\n",
       "      <td>-0.051943</td>\n",
       "      <td>1.000000</td>\n",
       "      <td>0.074845</td>\n",
       "      <td>0.110538</td>\n",
       "      <td>-0.144765</td>\n",
       "      <td>0.200355</td>\n",
       "      <td>0.017276</td>\n",
       "    </tr>\n",
       "    <tr>\n",
       "      <th>zipcode</th>\n",
       "      <td>-0.008224</td>\n",
       "      <td>-0.053203</td>\n",
       "      <td>-0.152668</td>\n",
       "      <td>-0.159773</td>\n",
       "      <td>-0.199430</td>\n",
       "      <td>-0.129574</td>\n",
       "      <td>-0.096743</td>\n",
       "      <td>0.030285</td>\n",
       "      <td>0.091213</td>\n",
       "      <td>0.003026</td>\n",
       "      <td>-0.184862</td>\n",
       "      <td>-0.261190</td>\n",
       "      <td>0.074845</td>\n",
       "      <td>1.000000</td>\n",
       "      <td>0.267048</td>\n",
       "      <td>-0.564072</td>\n",
       "      <td>-0.279033</td>\n",
       "      <td>-0.147221</td>\n",
       "    </tr>\n",
       "    <tr>\n",
       "      <th>lat</th>\n",
       "      <td>-0.001891</td>\n",
       "      <td>0.307003</td>\n",
       "      <td>-0.008931</td>\n",
       "      <td>0.031351</td>\n",
       "      <td>0.052529</td>\n",
       "      <td>-0.085683</td>\n",
       "      <td>0.029567</td>\n",
       "      <td>-0.014274</td>\n",
       "      <td>0.009529</td>\n",
       "      <td>-0.014941</td>\n",
       "      <td>0.114084</td>\n",
       "      <td>-0.000816</td>\n",
       "      <td>0.110538</td>\n",
       "      <td>0.267048</td>\n",
       "      <td>1.000000</td>\n",
       "      <td>-0.135512</td>\n",
       "      <td>0.048858</td>\n",
       "      <td>-0.086419</td>\n",
       "    </tr>\n",
       "    <tr>\n",
       "      <th>long</th>\n",
       "      <td>0.020799</td>\n",
       "      <td>0.021626</td>\n",
       "      <td>0.129473</td>\n",
       "      <td>0.179351</td>\n",
       "      <td>0.240223</td>\n",
       "      <td>0.229521</td>\n",
       "      <td>0.159001</td>\n",
       "      <td>-0.041910</td>\n",
       "      <td>-0.088244</td>\n",
       "      <td>-0.106500</td>\n",
       "      <td>0.198372</td>\n",
       "      <td>0.343803</td>\n",
       "      <td>-0.144765</td>\n",
       "      <td>-0.564072</td>\n",
       "      <td>-0.135512</td>\n",
       "      <td>1.000000</td>\n",
       "      <td>0.334605</td>\n",
       "      <td>0.254451</td>\n",
       "    </tr>\n",
       "    <tr>\n",
       "      <th>sqft_living15</th>\n",
       "      <td>-0.002901</td>\n",
       "      <td>0.585379</td>\n",
       "      <td>0.391638</td>\n",
       "      <td>0.510049</td>\n",
       "      <td>0.756420</td>\n",
       "      <td>0.144608</td>\n",
       "      <td>0.296561</td>\n",
       "      <td>0.086463</td>\n",
       "      <td>0.273444</td>\n",
       "      <td>-0.092824</td>\n",
       "      <td>0.713202</td>\n",
       "      <td>0.731870</td>\n",
       "      <td>0.200355</td>\n",
       "      <td>-0.279033</td>\n",
       "      <td>0.048858</td>\n",
       "      <td>0.334605</td>\n",
       "      <td>1.000000</td>\n",
       "      <td>0.183192</td>\n",
       "    </tr>\n",
       "    <tr>\n",
       "      <th>sqft_lot15</th>\n",
       "      <td>-0.138798</td>\n",
       "      <td>0.082447</td>\n",
       "      <td>0.029244</td>\n",
       "      <td>0.080779</td>\n",
       "      <td>0.183286</td>\n",
       "      <td>0.718557</td>\n",
       "      <td>-0.013252</td>\n",
       "      <td>0.030703</td>\n",
       "      <td>0.064345</td>\n",
       "      <td>-0.003406</td>\n",
       "      <td>0.119248</td>\n",
       "      <td>0.194050</td>\n",
       "      <td>0.017276</td>\n",
       "      <td>-0.147221</td>\n",
       "      <td>-0.086419</td>\n",
       "      <td>0.254451</td>\n",
       "      <td>0.183192</td>\n",
       "      <td>1.000000</td>\n",
       "    </tr>\n",
       "  </tbody>\n",
       "</table>\n",
       "</div>"
      ],
      "text/plain": [
       "                     id     price  bedrooms  bathrooms  sqft_living  sqft_lot  \\\n",
       "id             1.000000 -0.016762  0.001286  -0.000038    -0.012258 -0.132109   \n",
       "price         -0.016762  1.000000  0.308350   0.510072     0.702035  0.089661   \n",
       "bedrooms       0.001286  0.308350  1.000000   0.467452     0.576671  0.031703   \n",
       "bathrooms     -0.000038  0.510072  0.467452   1.000000     0.697875  0.085310   \n",
       "sqft_living   -0.012258  0.702035  0.576671   0.697875     1.000000  0.172826   \n",
       "sqft_lot      -0.132109  0.089661  0.031703   0.085310     0.172826  1.000000   \n",
       "floors         0.019120  0.237211  0.155643   0.484822     0.353321 -0.008951   \n",
       "waterfront    -0.002721  0.266369 -0.006582   0.058798     0.103818  0.021604   \n",
       "is_viewd       0.011405  0.359120  0.080106   0.166576     0.270907  0.067847   \n",
       "condition     -0.023783  0.036362  0.028472  -0.126016    -0.058753 -0.008958   \n",
       "grade          0.008130  0.667434  0.356967   0.606631     0.762704  0.113621   \n",
       "sqft_above    -0.010842  0.605567  0.477600   0.639933     0.876597  0.183512   \n",
       "sqft_basement -0.005151  0.323816  0.303093   0.250880     0.435043  0.015286   \n",
       "zipcode       -0.008224 -0.053203 -0.152668  -0.159773    -0.199430 -0.129574   \n",
       "lat           -0.001891  0.307003 -0.008931   0.031351     0.052529 -0.085683   \n",
       "long           0.020799  0.021626  0.129473   0.179351     0.240223  0.229521   \n",
       "sqft_living15 -0.002901  0.585379  0.391638   0.510049     0.756420  0.144608   \n",
       "sqft_lot15    -0.138798  0.082447  0.029244   0.080779     0.183286  0.718557   \n",
       "\n",
       "                 floors  waterfront  is_viewd  condition     grade  \\\n",
       "id             0.019120   -0.002721  0.011405  -0.023783  0.008130   \n",
       "price          0.237211    0.266369  0.359120   0.036362  0.667434   \n",
       "bedrooms       0.155643   -0.006582  0.080106   0.028472  0.356967   \n",
       "bathrooms      0.484822    0.058798  0.166576  -0.126016  0.606631   \n",
       "sqft_living    0.353321    0.103818  0.270907  -0.058753  0.762704   \n",
       "sqft_lot      -0.008951    0.021604  0.067847  -0.008958  0.113621   \n",
       "floors         1.000000    0.019640  0.013869  -0.293173  0.472608   \n",
       "waterfront     0.019640    1.000000  0.264057   0.016653  0.082775   \n",
       "is_viewd       0.013869    0.264057  1.000000   0.047143  0.237327   \n",
       "condition     -0.293173    0.016653  0.047143   1.000000 -0.144674   \n",
       "grade          0.472608    0.082775  0.237327  -0.144674  1.000000   \n",
       "sqft_above     0.517913    0.072075  0.153325  -0.158214  0.755923   \n",
       "sqft_basement -0.235836    0.080588  0.275310   0.174105  0.168392   \n",
       "zipcode       -0.096743    0.030285  0.091213   0.003026 -0.184862   \n",
       "lat            0.029567   -0.014274  0.009529  -0.014941  0.114084   \n",
       "long           0.159001   -0.041910 -0.088244  -0.106500  0.198372   \n",
       "sqft_living15  0.296561    0.086463  0.273444  -0.092824  0.713202   \n",
       "sqft_lot15    -0.013252    0.030703  0.064345  -0.003406  0.119248   \n",
       "\n",
       "               sqft_above  sqft_basement   zipcode       lat      long  \\\n",
       "id              -0.010842      -0.005151 -0.008224 -0.001891  0.020799   \n",
       "price            0.605567       0.323816 -0.053203  0.307003  0.021626   \n",
       "bedrooms         0.477600       0.303093 -0.152668 -0.008931  0.129473   \n",
       "bathrooms        0.639933       0.250880 -0.159773  0.031351  0.179351   \n",
       "sqft_living      0.876597       0.435043 -0.199430  0.052529  0.240223   \n",
       "sqft_lot         0.183512       0.015286 -0.129574 -0.085683  0.229521   \n",
       "floors           0.517913      -0.235836 -0.096743  0.029567  0.159001   \n",
       "waterfront       0.072075       0.080588  0.030285 -0.014274 -0.041910   \n",
       "is_viewd         0.153325       0.275310  0.091213  0.009529 -0.088244   \n",
       "condition       -0.158214       0.174105  0.003026 -0.014941 -0.106500   \n",
       "grade            0.755923       0.168392 -0.184862  0.114084  0.198372   \n",
       "sqft_above       1.000000      -0.051943 -0.261190 -0.000816  0.343803   \n",
       "sqft_basement   -0.051943       1.000000  0.074845  0.110538 -0.144765   \n",
       "zipcode         -0.261190       0.074845  1.000000  0.267048 -0.564072   \n",
       "lat             -0.000816       0.110538  0.267048  1.000000 -0.135512   \n",
       "long             0.343803      -0.144765 -0.564072 -0.135512  1.000000   \n",
       "sqft_living15    0.731870       0.200355 -0.279033  0.048858  0.334605   \n",
       "sqft_lot15       0.194050       0.017276 -0.147221 -0.086419  0.254451   \n",
       "\n",
       "               sqft_living15  sqft_lot15  \n",
       "id                 -0.002901   -0.138798  \n",
       "price               0.585379    0.082447  \n",
       "bedrooms            0.391638    0.029244  \n",
       "bathrooms           0.510049    0.080779  \n",
       "sqft_living         0.756420    0.183286  \n",
       "sqft_lot            0.144608    0.718557  \n",
       "floors              0.296561   -0.013252  \n",
       "waterfront          0.086463    0.030703  \n",
       "is_viewd            0.273444    0.064345  \n",
       "condition          -0.092824   -0.003406  \n",
       "grade               0.713202    0.119248  \n",
       "sqft_above          0.731870    0.194050  \n",
       "sqft_basement       0.200355    0.017276  \n",
       "zipcode            -0.279033   -0.147221  \n",
       "lat                 0.048858   -0.086419  \n",
       "long                0.334605    0.254451  \n",
       "sqft_living15       1.000000    0.183192  \n",
       "sqft_lot15          0.183192    1.000000  "
      ]
     },
     "execution_count": 134,
     "metadata": {},
     "output_type": "execute_result"
    }
   ],
   "source": [
    "df.corr()"
   ]
  },
  {
   "cell_type": "markdown",
   "metadata": {},
   "source": [
    "1- The relationship between price and bedrooms."
   ]
  },
  {
   "cell_type": "code",
   "execution_count": 136,
   "metadata": {},
   "outputs": [
    {
     "name": "stdout",
     "output_type": "stream",
     "text": [
      "            price  bedrooms\n",
      "price     1.00000   0.30835\n",
      "bedrooms  0.30835   1.00000\n"
     ]
    },
    {
     "data": {
      "text/plain": [
       "Text(0.5, 1.0, 'Relation between Price and Bedrooms')"
      ]
     },
     "execution_count": 136,
     "metadata": {},
     "output_type": "execute_result"
    },
    {
     "data": {
      "image/png": "[encoded data removed]",
      "text/plain": [
       "<Figure size 432x288 with 1 Axes>"
      ]
     },
     "metadata": {
      "needs_background": "light"
     },
     "output_type": "display_data"
    }
   ],
   "source": [
    "print(df[['price','bedrooms']].corr())\n",
    "sns.regplot(df['bedrooms'] , df['price'], df )\n",
    "plt.title('Relation between Price and Bedrooms')"
   ]
  },
  {
   "cell_type": "markdown",
   "metadata": {},
   "source": [
    "Conclusion : From the graph and correlation value , the relationship between number of bedrooms and price of houses is very weak."
   ]
  },
  {
   "cell_type": "markdown",
   "metadata": {},
   "source": [
    "2- The relationship between Bathrooms and price"
   ]
  },
  {
   "cell_type": "code",
   "execution_count": 135,
   "metadata": {},
   "outputs": [
    {
     "name": "stdout",
     "output_type": "stream",
     "text": [
      "              price  bathrooms\n",
      "price      1.000000   0.510072\n",
      "bathrooms  0.510072   1.000000\n"
     ]
    },
    {
     "data": {
      "text/plain": [
       "Text(0.5, 1.0, 'Relation between Price and Bathrooms')"
      ]
     },
     "execution_count": 135,
     "metadata": {},
     "output_type": "execute_result"
    },
    {
     "data": {
      "image/png": "[encoded data removed]",
      "text/plain": [
       "<Figure size 432x288 with 1 Axes>"
      ]
     },
     "metadata": {
      "needs_background": "light"
     },
     "output_type": "display_data"
    }
   ],
   "source": [
    "print(df[['price','bathrooms']].corr())\n",
    "sns.regplot(df['bathrooms'] , df['price'], df )\n",
    "plt.title('Relation between Price and Bathrooms')"
   ]
  },
  {
   "cell_type": "markdown",
   "metadata": {},
   "source": [
    "Conclusion : From the graph and correlation value , the relationship between number of bathrooms and price of houses is very weak.\n"
   ]
  },
  {
   "cell_type": "markdown",
   "metadata": {},
   "source": [
    "3- The relationship between sqft_living and price"
   ]
  },
  {
   "cell_type": "code",
   "execution_count": 141,
   "metadata": {},
   "outputs": [
    {
     "name": "stdout",
     "output_type": "stream",
     "text": [
      "             sqft_living     price\n",
      "sqft_living     1.000000  0.702035\n",
      "price           0.702035  1.000000\n"
     ]
    },
    {
     "data": {
      "text/plain": [
       "Text(0.5, 1.0, 'Relation between Price and Square footage')"
      ]
     },
     "execution_count": 141,
     "metadata": {},
     "output_type": "execute_result"
    },
    {
     "data": {
      "image/png": "[encoded data removed]",
      "text/plain": [
       "<Figure size 432x288 with 1 Axes>"
      ]
     },
     "metadata": {
      "needs_background": "light"
     },
     "output_type": "display_data"
    }
   ],
   "source": [
    "print(df[['sqft_living','price']].corr())\n",
    "sns.regplot(df['sqft_living'] , df['price'] , df)\n",
    "plt.title('Relation between Price and Square footage')"
   ]
  },
  {
   "cell_type": "markdown",
   "metadata": {},
   "source": [
    "Conclusion : From the above graph and correlation value , the relationship between number of bathrooms and price of houses is strong somehow, it means that any change in the value of the square footage affects on the price of house."
   ]
  },
  {
   "cell_type": "markdown",
   "metadata": {},
   "source": [
    "4- The relationship between Longitude coordinate and price"
   ]
  },
  {
   "cell_type": "code",
   "execution_count": 142,
   "metadata": {},
   "outputs": [
    {
     "name": "stdout",
     "output_type": "stream",
     "text": [
      "           long     price\n",
      "long   1.000000  0.021626\n",
      "price  0.021626  1.000000\n"
     ]
    },
    {
     "data": {
      "text/plain": [
       "Text(0.5, 1.0, 'Relation between Longitude coordinate and price')"
      ]
     },
     "execution_count": 142,
     "metadata": {},
     "output_type": "execute_result"
    },
    {
     "data": {
      "image/png": "[encoded data removed]",
      "text/plain": [
       "<Figure size 432x288 with 1 Axes>"
      ]
     },
     "metadata": {
      "needs_background": "light"
     },
     "output_type": "display_data"
    }
   ],
   "source": [
    "print(df[['long','price']].corr())\n",
    "sns.regplot(df['long'] , df['price'] , df)\n",
    "plt.title('Relation between Longitude coordinate and price')"
   ]
  },
  {
   "cell_type": "markdown",
   "metadata": {},
   "source": [
    "Conclusion : From the above graph and correlation value , the relationship between Longitude coordinate and price of houses is very weak and the price doesn't depend on the Longitude coordinate.\n",
    "It means that any change in the Longitude coordinate doesn't affect on the price of house."
   ]
  },
  {
   "cell_type": "markdown",
   "metadata": {},
   "source": [
    "5- The relation between above Square footage and price"
   ]
  },
  {
   "cell_type": "code",
   "execution_count": 144,
   "metadata": {},
   "outputs": [
    {
     "name": "stdout",
     "output_type": "stream",
     "text": [
      "            sqft_above     price\n",
      "sqft_above    1.000000  0.605567\n",
      "price         0.605567  1.000000\n"
     ]
    },
    {
     "data": {
      "text/plain": [
       "Text(0.5, 1.0, 'Relation between above Square footage and price')"
      ]
     },
     "execution_count": 144,
     "metadata": {},
     "output_type": "execute_result"
    },
    {
     "data": {
      "image/png": "[encoded data removed]",
      "text/plain": [
       "<Figure size 432x288 with 1 Axes>"
      ]
     },
     "metadata": {
      "needs_background": "light"
     },
     "output_type": "display_data"
    }
   ],
   "source": [
    "print(df[['sqft_above','price']].corr())\n",
    "sns.regplot(df['sqft_above'] , df['price'] , df)\n",
    "plt.title('Relation between above Square footage and price')"
   ]
  },
  {
   "cell_type": "markdown",
   "metadata": {},
   "source": [
    "Conclusion : From the above graph and correlation value , the relationship between Square footage of the above floors and price of houses is strong, the price depends on the value of square footage of the above floor."
   ]
  },
  {
   "cell_type": "markdown",
   "metadata": {},
   "source": [
    "6- Relation between above waterfront and price"
   ]
  },
  {
   "cell_type": "code",
   "execution_count": 150,
   "metadata": {},
   "outputs": [
    {
     "name": "stdout",
     "output_type": "stream",
     "text": [
      "            waterfront     price\n",
      "waterfront    1.000000  0.266369\n",
      "price         0.266369  1.000000\n"
     ]
    }
   ],
   "source": [
    "print(df[['waterfront','price']].corr())"
   ]
  },
  {
   "cell_type": "markdown",
   "metadata": {},
   "source": [
    "Cocnlusion : The correlation value is (0.266) which means that the existence of the water front in any house doesn't have a big effect on the price of the house."
   ]
  },
  {
   "cell_type": "markdown",
   "metadata": {},
   "source": [
    "7- The percentage of houses which have waterfront."
   ]
  },
  {
   "cell_type": "code",
   "execution_count": 177,
   "metadata": {},
   "outputs": [
    {
     "data": {
      "text/plain": [
       "<matplotlib.axes._subplots.AxesSubplot at 0x2ee4add2730>"
      ]
     },
     "execution_count": 177,
     "metadata": {},
     "output_type": "execute_result"
    },
    {
     "data": {
      "image/png": "[encoded data removed]",
      "text/plain": [
       "<Figure size 540x540 with 1 Axes>"
      ]
     },
     "metadata": {},
     "output_type": "display_data"
    }
   ],
   "source": [
    "df.groupby('waterfront').size().plot(title='Percentage of waterfront houses',kind='pie', autopct='%.2f%%',labels = ['0','1'],figsize=(7.5,7.5),fontsize=15)"
   ]
  },
  {
   "cell_type": "markdown",
   "metadata": {},
   "source": [
    "Cocnlusion : About 99.25% of houses don't have waterfront, and only .75% of houses have."
   ]
  },
  {
   "cell_type": "markdown",
   "metadata": {},
   "source": [
    "# Now, Time for some predictions. \n",
    "\n",
    "I'll predict the results of the relashionships between the price and the columns that have a correlated relationships with."
   ]
  },
  {
   "cell_type": "code",
   "execution_count": 183,
   "metadata": {},
   "outputs": [],
   "source": [
    "from sklearn.linear_model import LinearRegression \n",
    "lr = LinearRegression()"
   ]
  },
  {
   "cell_type": "markdown",
   "metadata": {},
   "source": [
    "# 1- Prediction of relationship between price and sqft_living"
   ]
  },
  {
   "cell_type": "code",
   "execution_count": 195,
   "metadata": {},
   "outputs": [
    {
     "name": "stdout",
     "output_type": "stream",
     "text": [
      "The price value increases by = [[280.6235679]] when the sqft_living increases by 1\n",
      "When sqft_living = 0 , the price value decreases by [-43580.74309447]\n"
     ]
    }
   ],
   "source": [
    "x = df[['sqft_living']]\n",
    "y = df[['price']]\n",
    "lr.fit(x,y)\n",
    "print(\"The price value increases by =\" , lr.coef_ , \"when the square footage increases by 1\")\n",
    "print(\"When sqft_living = 0 , the price value decreases by\" , lr.intercept_)"
   ]
  },
  {
   "cell_type": "markdown",
   "metadata": {},
   "source": [
    "Conclusion : price = ( -4358.74 ) + (280.62 * sqft_living)"
   ]
  },
  {
   "cell_type": "markdown",
   "metadata": {},
   "source": [
    "# 2- Prediction of relationship between price and sqft_above"
   ]
  },
  {
   "cell_type": "code",
   "execution_count": 197,
   "metadata": {},
   "outputs": [
    {
     "name": "stdout",
     "output_type": "stream",
     "text": [
      "The price value increases by = [[268.47318776]] when the square footage of above floors increases by 1\n",
      "When square footage of above floors = 0 , the price value increases by [59953.192047]\n"
     ]
    }
   ],
   "source": [
    "x = df[['sqft_above']]\n",
    "y = df[['price']]\n",
    "lr.fit(x,y)\n",
    "print(\"The price value increases by =\" , lr.coef_ , \"when the square footage of above floors increases by 1\")\n",
    "print(\"When square footage of above floors = 0 , the price value increases by\" , lr.intercept_)"
   ]
  },
  {
   "cell_type": "markdown",
   "metadata": {},
   "source": [
    "Conclusion : price = ( 59953.2 ) + (268.5 * sqft_above)"
   ]
  },
  {
   "cell_type": "markdown",
   "metadata": {},
   "source": [
    "# 3- Prediction of relationship between price and grade"
   ]
  },
  {
   "cell_type": "code",
   "execution_count": 199,
   "metadata": {},
   "outputs": [
    {
     "name": "stdout",
     "output_type": "stream",
     "text": [
      "The price value increases by = [[208457.56245838]] when the grade increases by 1\n",
      "When grade = 0 , the price value decreases by [-1056044.97700976]\n"
     ]
    }
   ],
   "source": [
    "x = df[['grade']]\n",
    "y = df[['price']]\n",
    "lr.fit(x,y)\n",
    "print(\"The price value increases by =\" , lr.coef_ , \"when the grade increases by 1\")\n",
    "print(\"When grade = 0 , the price value decreases by\" , lr.intercept_)"
   ]
  },
  {
   "cell_type": "markdown",
   "metadata": {},
   "source": [
    "Conclusion : price = ( -1056044 ) + (208457.6 * grade)\n"
   ]
  },
  {
   "cell_type": "markdown",
   "metadata": {},
   "source": [
    "# Summary of all conclusions: "
   ]
  },
  {
   "cell_type": "markdown",
   "metadata": {},
   "source": [
    "- Grades : About 67% of houses have garde between (7 or 8) , and the other houses their grades values are low\n",
    "\n",
    "\n",
    "- Floors : More than 55% of houses contains only one floor , about 40% of houses contains two floors and a very few percentage of house that have 3 floors.\n",
    "\n",
    "\n",
    "- Bathrooms : More than 10000 houses that have 2 bathroooms, More than 8000 houses that have 1 bathroooms, almost 2100 houses that have 3 bathrooms and very few houses have more than 3 bathrooms.\n",
    "\n",
    "\n",
    "- Condition : About 67% of houses have a rating score = 3 , and almost 18% have a rate = 4 and other less than \n",
    "\n",
    "\n",
    "- The relationship between number of bedrooms and price of houses is very weak.\n",
    "\n",
    "\n",
    "- The relationship between number of bathrooms and price of houses is very weak.\n",
    "\n",
    "\n",
    "- The relationship between number of bathrooms and price of houses is strong somehow, it means that any change in the value of the square footage affects on the price of house.\n",
    "\n",
    "\n",
    "- The relationship between Longitude coordinate and price of houses is very weak and the price doesn't depend on the Longitude coordinate. It means that any change in the Longitude coordinate doesn't affect on the price of house.\n",
    "\n",
    "\n",
    "- The existence of the water front in any house doesn't have a big effect on the price of the house.\n",
    "\n",
    "\n",
    "- The relationship between Square footage of the above floors and price of houses is strong, the price depends on the value of square footage of the above floor.\n",
    "\n",
    "\n",
    "- About 99.25% of houses don't have waterfront, and only .75% of houses have.\n",
    "\n",
    "\n",
    "- The price value increases by = [280.6235679] when the sqft_living increases by 1.\n",
    "\n",
    "\n",
    "- When sqft_living = 0 , the price value decreases by [-43580.74309447]\n",
    "\n",
    "\n",
    "- The price value increases by = [268.47318776] when the square footage of above floors increases by 1\n",
    "\n",
    "\n",
    "- When square footage of above floors = 0 , the price value increases by [59953.192047]\n",
    "\n",
    "\n",
    "- The price value increases by = [208457.56245838] when the grade increases by 1\n",
    "\n",
    "\n",
    "- When grade = 0 , the price value decreases by [-1056044.97700976]\n"
   ]
  },
  {
   "cell_type": "code",
   "execution_count": 200,
   "metadata": {},
   "outputs": [],
   "source": [
    "new_data = df.to_csv('New_HouseData')"
   ]
  }
 ],
 "metadata": {
  "kernelspec": {
   "display_name": "Python 3",
   "language": "python",
   "name": "python3"
  },
  "language_info": {
   "codemirror_mode": {
    "name": "ipython",
    "version": 3
   },
   "file_extension": ".py",
   "mimetype": "text/x-python",
   "name": "python",
   "nbconvert_exporter": "python",
   "pygments_lexer": "ipython3",
   "version": "3.8.3"
  }
 },
 "nbformat": 4,
 "nbformat_minor": 4
}
